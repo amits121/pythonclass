{
 "cells": [
  {
   "cell_type": "code",
   "execution_count": 6,
   "metadata": {},
   "outputs": [],
   "source": [
    "def sum(x1, x2):\n",
    "    print(x1+x2)"
   ]
  },
  {
   "cell_type": "code",
   "execution_count": 8,
   "metadata": {},
   "outputs": [
    {
     "name": "stdout",
     "output_type": "stream",
     "text": [
      "70\n"
     ]
    }
   ],
   "source": [
    "sum(50,20)"
   ]
  },
  {
   "cell_type": "code",
   "execution_count": 10,
   "metadata": {},
   "outputs": [
    {
     "name": "stdout",
     "output_type": "stream",
     "text": [
      "Plese enter the number:22\n"
     ]
    }
   ],
   "source": [
    "number1 = 25\n",
    "number2 =input(\"Plese enter the number:\")"
   ]
  },
  {
   "cell_type": "code",
   "execution_count": 12,
   "metadata": {},
   "outputs": [
    {
     "ename": "TypeError",
     "evalue": "unsupported operand type(s) for +: 'int' and 'str'",
     "output_type": "error",
     "traceback": [
      "\u001b[1;31m---------------------------------------------------------------------------\u001b[0m",
      "\u001b[1;31mTypeError\u001b[0m                                 Traceback (most recent call last)",
      "\u001b[1;32m<ipython-input-12-9097a47d0e54>\u001b[0m in \u001b[0;36m<module>\u001b[1;34m\u001b[0m\n\u001b[1;32m----> 1\u001b[1;33m \u001b[0msum\u001b[0m\u001b[1;33m(\u001b[0m\u001b[0mnumber1\u001b[0m\u001b[1;33m,\u001b[0m \u001b[0mnumber2\u001b[0m\u001b[1;33m)\u001b[0m\u001b[1;33m\u001b[0m\u001b[1;33m\u001b[0m\u001b[0m\n\u001b[0m",
      "\u001b[1;32m<ipython-input-6-cba297f645fe>\u001b[0m in \u001b[0;36msum\u001b[1;34m(x1, x2)\u001b[0m\n\u001b[0;32m      1\u001b[0m \u001b[1;32mdef\u001b[0m \u001b[0msum\u001b[0m\u001b[1;33m(\u001b[0m\u001b[0mx1\u001b[0m\u001b[1;33m,\u001b[0m \u001b[0mx2\u001b[0m\u001b[1;33m)\u001b[0m\u001b[1;33m:\u001b[0m\u001b[1;33m\u001b[0m\u001b[1;33m\u001b[0m\u001b[0m\n\u001b[1;32m----> 2\u001b[1;33m     \u001b[0mprint\u001b[0m\u001b[1;33m(\u001b[0m\u001b[0mx1\u001b[0m\u001b[1;33m+\u001b[0m\u001b[0mx2\u001b[0m\u001b[1;33m)\u001b[0m\u001b[1;33m\u001b[0m\u001b[1;33m\u001b[0m\u001b[0m\n\u001b[0m",
      "\u001b[1;31mTypeError\u001b[0m: unsupported operand type(s) for +: 'int' and 'str'"
     ]
    }
   ],
   "source": [
    "sum(number1, number2)"
   ]
  },
  {
   "cell_type": "code",
   "execution_count": 14,
   "metadata": {},
   "outputs": [],
   "source": [
    "try:\n",
    "    sum = 10 + 10\n",
    "except:\n",
    "    print(\" You are doing something wrong\")"
   ]
  },
  {
   "cell_type": "code",
   "execution_count": 16,
   "metadata": {},
   "outputs": [
    {
     "data": {
      "text/plain": [
       "20"
      ]
     },
     "execution_count": 16,
     "metadata": {},
     "output_type": "execute_result"
    }
   ],
   "source": [
    "sum"
   ]
  },
  {
   "cell_type": "code",
   "execution_count": 19,
   "metadata": {},
   "outputs": [
    {
     "name": "stdout",
     "output_type": "stream",
     "text": [
      " You are doing something wrong\n"
     ]
    }
   ],
   "source": [
    "try:\n",
    "    sum = 10 + \"10\"\n",
    "except:\n",
    "    print(\" You are doing something wrong\")"
   ]
  },
  {
   "cell_type": "code",
   "execution_count": 25,
   "metadata": {},
   "outputs": [
    {
     "name": "stdout",
     "output_type": "stream",
     "text": [
      "Evrything looks fine\n",
      "35\n"
     ]
    }
   ],
   "source": [
    "try:\n",
    "    sum = 10 + 25\n",
    "except:\n",
    "    print(\" You are doing something wrong\")\n",
    "else:\n",
    "    print(\"Evrything looks fine\")   \n",
    "    print(sum)"
   ]
  },
  {
   "cell_type": "code",
   "execution_count": 5,
   "metadata": {},
   "outputs": [
    {
     "name": "stdout",
     "output_type": "stream",
     "text": [
      "Run the code anyway\n"
     ]
    }
   ],
   "source": [
    "try:\n",
    "    f= open('newfile1','w')\n",
    "    f.write(\"This is a smaple sentence\")\n",
    "except TypeError:\n",
    "        print(\"This is a type error\")\n",
    "except OSError:\n",
    "        print(\"An OS error has occured\")\n",
    "finally:\n",
    "        print(\"Run the code anyway\")"
   ]
  },
  {
   "cell_type": "code",
   "execution_count": 6,
   "metadata": {},
   "outputs": [
    {
     "name": "stdout",
     "output_type": "stream",
     "text": [
      "Run the code anyway\n"
     ]
    }
   ],
   "source": [
    "try:\n",
    "    f.write(\"This is a smaple sentence\")\n",
    "except TypeError:\n",
    "        print(\"This is a type error\")\n",
    "except:\n",
    "        print(\"All other exception\")\n",
    "finally:\n",
    "        print(\"Run the code anyway\")"
   ]
  },
  {
   "cell_type": "code",
   "execution_count": 12,
   "metadata": {},
   "outputs": [],
   "source": [
    "def enter_number():\n",
    "    try:\n",
    "        number = int(input('Plese enter the number: '))\n",
    "    except:\n",
    "        print(\"This is not the right number\")\n",
    "    finally:\n",
    "        print(\"End of try/except/finally\")"
   ]
  },
  {
   "cell_type": "code",
   "execution_count": 13,
   "metadata": {},
   "outputs": [
    {
     "name": "stdout",
     "output_type": "stream",
     "text": [
      "Plese enter the number: 15\n",
      "End of try/except/finally\n"
     ]
    }
   ],
   "source": [
    "enter_number()\n"
   ]
  },
  {
   "cell_type": "code",
   "execution_count": 15,
   "metadata": {},
   "outputs": [],
   "source": [
    "def enter_number():\n",
    "    try:\n",
    "        number = int(input('Plese enter the number: '))\n",
    "    except:\n",
    "        print(\"This is not the right number\")\n",
    "    finally:\n",
    "        print(\"End of try/except/finally\")"
   ]
  },
  {
   "cell_type": "code",
   "execution_count": 17,
   "metadata": {},
   "outputs": [
    {
     "name": "stdout",
     "output_type": "stream",
     "text": [
      "Plese enter the number: sum\n",
      "This is not the right number\n",
      "End of try/except/finally\n"
     ]
    }
   ],
   "source": [
    "enter_number()"
   ]
  },
  {
   "cell_type": "code",
   "execution_count": 23,
   "metadata": {},
   "outputs": [],
   "source": [
    "def enter_number():\n",
    "    while True:\n",
    "        try:\n",
    "            number = int(input('Plese enter the number: '))\n",
    "        except:\n",
    "            print(\"This is not the right number\")\n",
    "            continue\n",
    "        else:\n",
    "            print(\"this is the right number\")\n",
    "            break\n",
    "        finally:\n",
    "            print(\"End of try/except/finally\")\n",
    "            print('Run it anyway')\n",
    "            "
   ]
  },
  {
   "cell_type": "code",
   "execution_count": 22,
   "metadata": {},
   "outputs": [
    {
     "name": "stdout",
     "output_type": "stream",
     "text": [
      "Plese enter the number: cool\n",
      "This is not the right number\n",
      "End of try/except/finally\n",
      "Plese enter the number: wow\n",
      "This is not the right number\n",
      "End of try/except/finally\n",
      "Plese enter the number: 59.6\n",
      "This is not the right number\n",
      "End of try/except/finally\n",
      "Plese enter the number: 23.9\n",
      "This is not the right number\n",
      "End of try/except/finally\n",
      "Plese enter the number: 10\n",
      "this is the right number\n",
      "End of try/except/finally\n"
     ]
    }
   ],
   "source": [
    "enter_number()"
   ]
  }
 ],
 "metadata": {
  "kernelspec": {
   "display_name": "Python 3",
   "language": "python",
   "name": "python3"
  },
  "language_info": {
   "codemirror_mode": {
    "name": "ipython",
    "version": 3
   },
   "file_extension": ".py",
   "mimetype": "text/x-python",
   "name": "python",
   "nbconvert_exporter": "python",
   "pygments_lexer": "ipython3",
   "version": "3.7.1"
  }
 },
 "nbformat": 4,
 "nbformat_minor": 2
}
